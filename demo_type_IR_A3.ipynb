{
  "nbformat": 4,
  "nbformat_minor": 0,
  "metadata": {
    "colab": {
      "name": "demo_type_IR_A3.ipynb",
      "provenance": [],
      "collapsed_sections": []
    },
    "kernelspec": {
      "display_name": "Python 3",
      "name": "python3"
    }
  },
  "cells": [
    {
      "cell_type": "markdown",
      "metadata": {
        "id": "bJXrLwmNgRc0"
      },
      "source": [
        "# Assignment 3 : Document Retrieval and Evaluation\r\n",
        "\r\n",
        "---\r\n",
        "\r\n"
      ]
    },
    {
      "cell_type": "code",
      "metadata": {
        "colab": {
          "base_uri": "https://localhost:8080/"
        },
        "id": "F6UDvqCY09EG",
        "outputId": "3d47a1c2-47cd-4586-824c-352cf606bdb8"
      },
      "source": [
        "#import all needed libraries here\r\n",
        "\r\n",
        "import os\r\n",
        "from bs4 import BeautifulSoup\r\n",
        "import lxml\r\n",
        "import re\r\n",
        "import nltk\r\n",
        "from nltk.corpus import stopwords\r\n",
        "from nltk.stem import PorterStemmer\r\n",
        "from nltk.stem import WordNetLemmatizer \r\n",
        "import numpy as np\r\n",
        "import pickle as pc\r\n",
        "import math\r\n",
        "nltk.download('punkt')\r\n",
        "nltk.download('stopwords')\r\n",
        "nltk.download('wordnet')"
      ],
      "execution_count": 2,
      "outputs": [
        {
          "output_type": "stream",
          "text": [
            "[nltk_data] Downloading package punkt to /root/nltk_data...\n",
            "[nltk_data]   Unzipping tokenizers/punkt.zip.\n",
            "[nltk_data] Downloading package stopwords to /root/nltk_data...\n",
            "[nltk_data]   Unzipping corpora/stopwords.zip.\n",
            "[nltk_data] Downloading package wordnet to /root/nltk_data...\n",
            "[nltk_data]   Unzipping corpora/wordnet.zip.\n"
          ],
          "name": "stdout"
        },
        {
          "output_type": "execute_result",
          "data": {
            "text/plain": [
              "True"
            ]
          },
          "metadata": {
            "tags": []
          },
          "execution_count": 2
        }
      ]
    },
    {
      "cell_type": "code",
      "metadata": {
        "colab": {
          "base_uri": "https://localhost:8080/"
        },
        "id": "DpScXzq6P-rf",
        "outputId": "0c19de2c-bd7e-4cf4-b54d-cbb49bbae75e"
      },
      "source": [
        "from google.colab import drive\n",
        "drive.mount('/content/drive')"
      ],
      "execution_count": 1,
      "outputs": [
        {
          "output_type": "stream",
          "text": [
            "Mounted at /content/drive\n"
          ],
          "name": "stdout"
        }
      ]
    },
    {
      "cell_type": "code",
      "metadata": {
        "id": "7Mg25cvOk8QR",
        "colab": {
          "base_uri": "https://localhost:8080/"
        },
        "outputId": "c279098c-4af1-44f7-9d47-f82e0bff0840"
      },
      "source": [
        "!unrar x \"/content/drive/MyDrive/FIRE_Dataset_EN_2010.rar\" \"/content/fire_dataset/\"\r\n",
        "# !tar -xvf \"/content/fire_dataset/English-Data.tgz\" -C \"/content\"\r\n",
        "# !cp \"/content/fire_dataset/queries.txt\" \"/content\"\r\n",
        "# !cp \"/content/fire_dataset/relevance.txt\" \"/content\"\r\n",
        "\r\n",
        "import shutil\r\n",
        "shutil.unpack_archive(\"/content/fire_dataset/FIRE_Dataset_EN_2010/English-Data.tgz\", \"/content/fire_dataset/FIRE_Dataset_EN_2010/\")\r\n",
        "\r\n",
        "qrels_path=\"/content/drive/MyDrive/en.qrels.76-125.2010.txt\"\r\n",
        "topics_path=\"/content/fire_dataset/FIRE_Dataset_EN_2010/en.topics.76-125.2010.txt\"\r\n"
      ],
      "execution_count": 3,
      "outputs": [
        {
          "output_type": "stream",
          "text": [
            "\n",
            "UNRAR 5.50 freeware      Copyright (c) 1993-2017 Alexander Roshal\n",
            "\n",
            "\n",
            "Extracting from /content/drive/MyDrive/FIRE_Dataset_EN_2010.rar\n",
            "\n",
            "Creating    /content/fire_dataset                                     OK\n",
            "Creating    /content/fire_dataset/FIRE_Dataset_EN_2010                OK\n",
            "Extracting  /content/fire_dataset/FIRE_Dataset_EN_2010/en.qrels.76-125.2010.txt.gz     \b\b\b\b  0%\b\b\b\b\b  OK \n",
            "Extracting  /content/fire_dataset/FIRE_Dataset_EN_2010/en.topics.76-125.2010.txt     \b\b\b\b  0%\b\b\b\b\b  OK \n",
            "Extracting  /content/fire_dataset/FIRE_Dataset_EN_2010/English-Data.tgz     \b\b\b\b  3%\b\b\b\b  6%\b\b\b\b  9%\b\b\b\b 12%\b\b\b\b 15%\b\b\b\b 19%\b\b\b\b 22%\b\b\b\b 25%\b\b\b\b 28%\b\b\b\b 31%\b\b\b\b 34%\b\b\b\b 37%\b\b\b\b 41%\b\b\b\b 44%\b\b\b\b 47%\b\b\b\b 50%\b\b\b\b 53%\b\b\b\b 56%\b\b\b\b 60%\b\b\b\b 63%\b\b\b\b 66%\b\b\b\b 69%\b\b\b\b 72%\b\b\b\b 75%\b\b\b\b 78%\b\b\b\b 82%\b\b\b\b 85%\b\b\b\b 88%\b\b\b\b 91%\b\b\b\b 94%\b\b\b\b 97%\b\b\b\b 99%\b\b\b\b\b  OK \n",
            "All OK\n"
          ],
          "name": "stdout"
        }
      ]
    },
    {
      "cell_type": "markdown",
      "metadata": {
        "id": "8lQpIM3ilItC"
      },
      "source": [
        "# Function to read all docs \r\n"
      ]
    },
    {
      "cell_type": "code",
      "metadata": {
        "id": "vLqCHa_JnmvL"
      },
      "source": [
        "def read_doc(path):\n",
        "  global cnt\n",
        "  global docs\n",
        "  global docs_list\n",
        "  for file in os.listdir(path):\n",
        "    if os.path.isdir(os.path.join(path,file)):\n",
        "      read_doc(os.path.join(path,file))\n",
        "    else:\n",
        "      if file.find(\"index\") == -1 and cnt<3:\n",
        "        fi = open(os.path.join(path,file),'r')\n",
        "        bs = BeautifulSoup(fi.read())\n",
        "        doc_id = bs.find(\"docno\").text\n",
        "        global i \n",
        "        i += 1\n",
        "        index[doc_id] = i\n",
        "        docs_list.append(doc_id)\n",
        "        docs.append(bs.find(\"text\").text[30:60])\n",
        "        cnt+=1"
      ],
      "execution_count": 19,
      "outputs": []
    },
    {
      "cell_type": "markdown",
      "metadata": {
        "id": "lelKFYXaZH1w"
      },
      "source": [
        "##calling read_doc function to read whole corpus"
      ]
    },
    {
      "cell_type": "code",
      "metadata": {
        "id": "XFmpgqs313Qo",
        "colab": {
          "base_uri": "https://localhost:8080/"
        },
        "outputId": "25d9994b-da36-47a9-f4bd-bfdfb8e22d58"
      },
      "source": [
        "global i \n",
        "cnt=0\n",
        "index = {}\n",
        "i = -1\n",
        "docs = []\n",
        "q_id = []\n",
        "docs_list = []\n",
        "read_doc(\"/content/fire_dataset/FIRE_Dataset_EN_2010/TELEGRAPH_UTF8\")\n",
        "fi = open(topics_path,'r')\n",
        "data = fi.read()\n",
        "bs = BeautifulSoup(data)\n",
        "q_id = [int(id.text) for id in bs.find_all(\"num\")]   # getting query id\n",
        "desc = [desc.text[5:20] for desc in bs.find_all(\"desc\")]  # getting description of query\n",
        " \n",
        "q_id=q_id[:2]\n",
        "desc=desc[:2]\n",
        "docs.extend(desc)\n",
        " \n",
        "for id in q_id:\n",
        "  i += 1\n",
        "  index[id] = i\n",
        "\n",
        "\n",
        "print(docs_list)\n",
        "print(docs)\n",
        "print(index)\n",
        "print(q_id)\n",
        "print(desc)"
      ],
      "execution_count": 20,
      "outputs": [
        {
          "output_type": "stream",
          "text": [
            "['1060625_foreign_story_6397784.utf8', '1060209_foreign_story_5823850.utf8', '1060404_foreign_story_6054544.utf8']\n",
            "['International\\n\\n Prachanda\\n\\n Ka', 'International\\n\\n Double standar', 'International\\n\\n Fine Print\\n\\n N', 'ons behind the ', 'cks by Hezbolla']\n",
            "{'1060625_foreign_story_6397784.utf8': 0, '1060209_foreign_story_5823850.utf8': 1, '1060404_foreign_story_6054544.utf8': 2, 76: 3, 77: 4}\n",
            "[76, 77]\n",
            "['ons behind the ', 'cks by Hezbolla']\n"
          ],
          "name": "stdout"
        }
      ]
    },
    {
      "cell_type": "markdown",
      "metadata": {
        "id": "sa8uS6SzlscI"
      },
      "source": [
        "# Class for preprocessing data"
      ]
    },
    {
      "cell_type": "code",
      "metadata": {
        "id": "qVMX_GGj6cI4"
      },
      "source": [
        "class preprocessing:\n",
        "  def __init__(self):\n",
        "    self.docs_tokenized = [] # stores tokens of each doc\n",
        "    self.words = set()\n",
        "  def preprocess(self,docs):\n",
        "    temp = []\n",
        "    for doc in docs:\n",
        "      doc = re.sub('(\\d|[^\\w\\s])','',doc) #removing punctuations and digits\n",
        "      doc = nltk.word_tokenize(doc.lower()) #tokenizing\n",
        "      sw = set(stopwords.words('english'))\n",
        "      doc = [token for token in doc  if token not in sw]# removing stop words\n",
        "      lemmatizer = WordNetLemmatizer()\n",
        "      doc = [lemmatizer.lemmatize(x) for x in doc] #lemmitizing\n",
        "      self.docs_tokenized.append(doc)\n",
        "      temp.extend(doc)\n",
        "    self.words = set(temp)\n",
        "    print(self.words)\n",
        "    print(self.docs_tokenized)"
      ],
      "execution_count": 21,
      "outputs": []
    },
    {
      "cell_type": "code",
      "metadata": {
        "id": "lChZtCpA8i3r",
        "colab": {
          "base_uri": "https://localhost:8080/"
        },
        "outputId": "117bfee7-8aeb-4df5-cbf0-b27a4d486486"
      },
      "source": [
        "ob1 = preprocessing() \n",
        "ob1.preprocess(docs)"
      ],
      "execution_count": 22,
      "outputs": [
        {
          "output_type": "stream",
          "text": [
            "{'print', 'ons', 'ka', 'international', 'standar', 'hezbolla', 'double', 'behind', 'fine', 'prachanda', 'cks', 'n'}\n",
            "[['international', 'prachanda', 'ka'], ['international', 'double', 'standar'], ['international', 'fine', 'print', 'n'], ['ons', 'behind'], ['cks', 'hezbolla']]\n"
          ],
          "name": "stdout"
        }
      ]
    },
    {
      "cell_type": "markdown",
      "metadata": {
        "id": "Ys42WFllnc9b"
      },
      "source": [
        "# **Creating list of dictionaries where each dictionary contents word count of that document**"
      ]
    },
    {
      "cell_type": "code",
      "metadata": {
        "id": "-mP-TRWZgyQw",
        "colab": {
          "base_uri": "https://localhost:8080/"
        },
        "outputId": "538ba2bb-6b76-4325-e0c2-ef792002be90"
      },
      "source": [
        "docs_dict = []    \n",
        "for doc in ob1.docs_tokenized:\n",
        "  temp_dict = {}\n",
        "  for word in doc:\n",
        "    temp_dict[word]=temp_dict.get(word,0)+1  #counting the frequency of each word\n",
        "  docs_dict.append(temp_dict) \n",
        "\n",
        "print(docs_dict)   "
      ],
      "execution_count": 23,
      "outputs": [
        {
          "output_type": "stream",
          "text": [
            "[{'international': 1, 'prachanda': 1, 'ka': 1}, {'international': 1, 'double': 1, 'standar': 1}, {'international': 1, 'fine': 1, 'print': 1, 'n': 1}, {'ons': 1, 'behind': 1}, {'cks': 1, 'hezbolla': 1}]\n"
          ],
          "name": "stdout"
        }
      ]
    },
    {
      "cell_type": "markdown",
      "metadata": {
        "id": "3ST58v6LnlpN"
      },
      "source": [
        "#**Creating document frequency of each word which means how many documents have that word.**"
      ]
    },
    {
      "cell_type": "code",
      "metadata": {
        "id": "du3QCfJrnh3I",
        "colab": {
          "base_uri": "https://localhost:8080/"
        },
        "outputId": "c4a45d96-0c0c-4dfa-af72-2498926197fa"
      },
      "source": [
        "df = {} #dictionary to store df\r\n",
        "for doc in ob1.docs_tokenized:\r\n",
        "  for word in set(doc):\r\n",
        "    df[word] = df.get(word,0)+1  #Counting numbers of documents which contains specific word\r\n",
        "\r\n",
        "print(df)\r\n"
      ],
      "execution_count": 24,
      "outputs": [
        {
          "output_type": "stream",
          "text": [
            "{'prachanda': 1, 'ka': 1, 'international': 3, 'double': 1, 'standar': 1, 'fine': 1, 'print': 1, 'n': 1, 'behind': 1, 'ons': 1, 'cks': 1, 'hezbolla': 1}\n"
          ],
          "name": "stdout"
        }
      ]
    },
    {
      "cell_type": "markdown",
      "metadata": {
        "id": "cXe_6XNan6rQ"
      },
      "source": [
        "#**Calculating inverse document frequency-IDF for each word**"
      ]
    },
    {
      "cell_type": "code",
      "metadata": {
        "id": "CofUtKlCnkoL",
        "colab": {
          "base_uri": "https://localhost:8080/"
        },
        "outputId": "63fbf701-dbfc-41ef-8c9f-c62500ec0935"
      },
      "source": [
        "idf = {}\r\n",
        "N = len(docs_dict)\r\n",
        "for word in df:\r\n",
        "  idf[word] = N/df[word]\r\n",
        "\r\n",
        "print(idf)"
      ],
      "execution_count": 25,
      "outputs": [
        {
          "output_type": "stream",
          "text": [
            "{'prachanda': 5.0, 'ka': 5.0, 'international': 1.6666666666666667, 'double': 5.0, 'standar': 5.0, 'fine': 5.0, 'print': 5.0, 'n': 5.0, 'behind': 5.0, 'ons': 5.0, 'cks': 5.0, 'hezbolla': 5.0}\n"
          ],
          "name": "stdout"
        }
      ]
    },
    {
      "cell_type": "markdown",
      "metadata": {
        "id": "SBLwynMuobtK"
      },
      "source": [
        "# **Class for finding tfidf vector**"
      ]
    },
    {
      "cell_type": "code",
      "metadata": {
        "id": "VJrrdf8hgyT9"
      },
      "source": [
        "class tf_idf:\n",
        "  def __init__(self,doc_index,idf,docs_dict,words):\n",
        "    self.doc_index=doc_index\n",
        "    self.idf = idf\n",
        "    self.docs_dict = docs_dict\n",
        "    self.words = words\n",
        "  \"\"\"It returns a dictionary for document which contains word as key and it's Tf-idf score as value \"\"\"  \n",
        "  def getvectordict(self,doc_id):\n",
        "    vector = {}\n",
        "    doc = self.docs_dict[self.doc_index[doc_id]]  #Getting doc from docs dictionary with help of index\n",
        "    n = sum(doc.values())\n",
        "    if n!= 0:\n",
        "      for word in doc:\n",
        "        tf = doc[word] / n                        #Calculating tf\n",
        "        tfidf = tf*self.idf[word]                 #Calculating tf-idf\n",
        "        if tfidf!=0:\n",
        "         vector[word] = tfidf\n",
        "    print(vector)\n",
        "    return vector   \n"
      ],
      "execution_count": 26,
      "outputs": []
    },
    {
      "cell_type": "code",
      "metadata": {
        "id": "NoBgrR5bs-OT"
      },
      "source": [
        "ob2 = tf_idf(index,idf,docs_dict,ob1.words)"
      ],
      "execution_count": 27,
      "outputs": []
    },
    {
      "cell_type": "markdown",
      "metadata": {
        "id": "Cw4Wp9UUmTgP"
      },
      "source": [
        "#**Find tfidf vectors of queries**"
      ]
    },
    {
      "cell_type": "code",
      "metadata": {
        "id": "HtY3Z--ht23g",
        "colab": {
          "base_uri": "https://localhost:8080/"
        },
        "outputId": "666070dd-8a08-41e3-abbe-2f0b4a4487d5"
      },
      "source": [
        "queries_tfidf = {}\r\n",
        "for q in q_id:\r\n",
        "    queries_tfidf[q] = ob2.getvectordict(q)"
      ],
      "execution_count": 28,
      "outputs": [
        {
          "output_type": "stream",
          "text": [
            "{'ons': 2.5, 'behind': 2.5}\n",
            "{'cks': 2.5, 'hezbolla': 2.5}\n"
          ],
          "name": "stdout"
        }
      ]
    },
    {
      "cell_type": "markdown",
      "metadata": {
        "id": "z-Q2871Zoo54"
      },
      "source": [
        "#**Find tfidf vectors of documnets**"
      ]
    },
    {
      "cell_type": "code",
      "metadata": {
        "id": "4ESYBn8-t33L",
        "colab": {
          "base_uri": "https://localhost:8080/"
        },
        "outputId": "b6fdd24b-63e1-481d-d72f-54e6c6b3f96b"
      },
      "source": [
        "docs_tfidf = {}\r\n",
        "for doc in docs_list:\r\n",
        "    docs_tfidf[doc] = ob2.getvectordict(doc)"
      ],
      "execution_count": 29,
      "outputs": [
        {
          "output_type": "stream",
          "text": [
            "{'international': 0.5555555555555556, 'prachanda': 1.6666666666666665, 'ka': 1.6666666666666665}\n",
            "{'international': 0.5555555555555556, 'double': 1.6666666666666665, 'standar': 1.6666666666666665}\n",
            "{'international': 0.4166666666666667, 'fine': 1.25, 'print': 1.25, 'n': 1.25}\n"
          ],
          "name": "stdout"
        }
      ]
    },
    {
      "cell_type": "markdown",
      "metadata": {
        "id": "cYXBdpsGotgV"
      },
      "source": [
        "# **Calculating cosine similarity**"
      ]
    },
    {
      "cell_type": "code",
      "metadata": {
        "id": "TMR6ENKs9lGw"
      },
      "source": [
        "from numpy.linalg import norm\r\n",
        "def c_s(a,b):\r\n",
        "  dot_pr = 0\r\n",
        "  print(\"a:\",a,\" b:\",b)\r\n",
        "  av = list(a.values())\r\n",
        "  bv = list(b.values())\r\n",
        "  for word in a:\r\n",
        "    #if word in b:\r\n",
        "    dot_pr = dot_pr + 1#(a[word] * b[word])\r\n",
        "  return (dot_pr/(norm(av)*norm(bv)))"
      ],
      "execution_count": 36,
      "outputs": []
    },
    {
      "cell_type": "code",
      "metadata": {
        "id": "xm2n638p7Nxq",
        "colab": {
          "base_uri": "https://localhost:8080/"
        },
        "outputId": "651c79e4-9e88-4488-d49a-a7b7c0089b32"
      },
      "source": [
        "cs = {}\n",
        "for q in q_id:                    # iterating through each query\n",
        "  qv = queries_tfidf[q]           # getting tfidf of specific query\n",
        "  temp = {}\n",
        "  for doc in docs_list:           # calculating cosine similarity of query and document\n",
        "    dv = docs_tfidf[doc]    \n",
        "    similarity = c_s(qv,dv)\n",
        "    if  similarity != 0:               \n",
        "     temp[doc] = similarity          \n",
        "  cs[q] = temp\n",
        "  print(cs[q])"
      ],
      "execution_count": 37,
      "outputs": [
        {
          "output_type": "stream",
          "text": [
            "a: {'ons': 2.5, 'behind': 2.5}  b: {'international': 0.5555555555555556, 'prachanda': 1.6666666666666665, 'ka': 1.6666666666666665}\n",
            "a: {'ons': 2.5, 'behind': 2.5}  b: {'international': 0.5555555555555556, 'double': 1.6666666666666665, 'standar': 1.6666666666666665}\n",
            "a: {'ons': 2.5, 'behind': 2.5}  b: {'international': 0.4166666666666667, 'fine': 1.25, 'print': 1.25, 'n': 1.25}\n",
            "{'1060625_foreign_story_6397784.utf8': 0.23359884642829806, '1060209_foreign_story_5823850.utf8': 0.23359884642829806, '1060404_foreign_story_6054544.utf8': 0.2565707922359274}\n",
            "a: {'cks': 2.5, 'hezbolla': 2.5}  b: {'international': 0.5555555555555556, 'prachanda': 1.6666666666666665, 'ka': 1.6666666666666665}\n",
            "a: {'cks': 2.5, 'hezbolla': 2.5}  b: {'international': 0.5555555555555556, 'double': 1.6666666666666665, 'standar': 1.6666666666666665}\n",
            "a: {'cks': 2.5, 'hezbolla': 2.5}  b: {'international': 0.4166666666666667, 'fine': 1.25, 'print': 1.25, 'n': 1.25}\n",
            "{'1060625_foreign_story_6397784.utf8': 0.23359884642829806, '1060209_foreign_story_5823850.utf8': 0.23359884642829806, '1060404_foreign_story_6054544.utf8': 0.2565707922359274}\n"
          ],
          "name": "stdout"
        }
      ]
    },
    {
      "cell_type": "markdown",
      "metadata": {
        "id": "vIFG96soCrgJ"
      },
      "source": [
        "#**Getting top 10 documents for each query on basis of there cosine similarity**"
      ]
    },
    {
      "cell_type": "code",
      "metadata": {
        "id": "B5PWwKn4vO4P",
        "colab": {
          "base_uri": "https://localhost:8080/"
        },
        "outputId": "d58edf7e-8ac3-45a0-abd1-bf8c5a371018"
      },
      "source": [
        "from heapq import nlargest\r\n",
        "rank_list = {}\r\n",
        "for q in q_id:\r\n",
        "  rank_list[q] = nlargest(5,cs[q],key = cs[q].get)\r\n",
        "  print(cs[q].get)\r\n",
        "\r\n",
        "print(rank_list)"
      ],
      "execution_count": 41,
      "outputs": [
        {
          "output_type": "stream",
          "text": [
            "<built-in method get of dict object at 0x7fe70bd1a0d8>\n",
            "<built-in method get of dict object at 0x7fe70f730bd0>\n",
            "{76: ['1060404_foreign_story_6054544.utf8', '1060625_foreign_story_6397784.utf8', '1060209_foreign_story_5823850.utf8'], 77: ['1060404_foreign_story_6054544.utf8', '1060625_foreign_story_6397784.utf8', '1060209_foreign_story_5823850.utf8']}\n"
          ],
          "name": "stdout"
        }
      ]
    },
    {
      "cell_type": "markdown",
      "metadata": {
        "id": "-q_29Sx9rg9n"
      },
      "source": [
        "# **Reading qrels**"
      ]
    },
    {
      "cell_type": "code",
      "metadata": {
        "id": "O7P0IxY3OH5K",
        "colab": {
          "base_uri": "https://localhost:8080/"
        },
        "outputId": "1a7d2df9-96b8-4916-8f80-b07743c8b951"
      },
      "source": [
        "fr = open(qrels_path,'r')\n",
        "qr = {}\n",
        "for line in fr.readlines():\n",
        "  data = line.split()\n",
        "  if data[0] not in qr:\n",
        "   qr[data[0]] = {}\n",
        "   qr[data[0]][data[2]] = int(data[3])          \n",
        "  else: \n",
        "    qr[data[0]][data[2]] = int(data[3])\n",
        "\n",
        "qr= {'76': {'1060404_foreign_story_6054544.utf8': 1,'1060625_foreign_story_6397784.utf8': 0,'1060209_foreign_story_5823850.utf8': 1},'77':{'1060404_foreign_story_6054544.utf8': 0,'1060625_foreign_story_6397784.utf8': 1,'1060209_foreign_story_5823850.utf8':1 } }\n",
        "print(qr)"
      ],
      "execution_count": 43,
      "outputs": [
        {
          "output_type": "stream",
          "text": [
            "{'76': {'1060404_foreign_story_6054544.utf8': 1, '1060625_foreign_story_6397784.utf8': 0, '1060209_foreign_story_5823850.utf8': 1}, '77': {'1060404_foreign_story_6054544.utf8': 0, '1060625_foreign_story_6397784.utf8': 1, '1060209_foreign_story_5823850.utf8': 1}}\n"
          ],
          "name": "stdout"
        }
      ]
    },
    {
      "cell_type": "markdown",
      "metadata": {
        "id": "z9p9JGi2tHJG"
      },
      "source": [
        "# **Calculating Mean Average Precision**"
      ]
    },
    {
      "cell_type": "code",
      "metadata": {
        "colab": {
          "base_uri": "https://localhost:8080/"
        },
        "id": "qOlHbseC-vvX",
        "outputId": "53dcb602-23bd-48ad-b530-9049944f3e69"
      },
      "source": [
        "avg_precision = []                                \r\n",
        "for q in q_id:                                             #Iterating through each query\r\n",
        "  rk = rank_list[q]                                        # Getting rank list of specific query\r\n",
        "  relevance = 0                                            # Store number of relevant documents found\r\n",
        "  count = 0                                                #To store count of docs\r\n",
        "  precision_sum = 0 \r\n",
        "  for doc in rk:\r\n",
        "    print(\"doc:\",doc)\r\n",
        "    count += 1                         \r\n",
        "    if doc in qr[str(q)]:\r\n",
        "      if qr[str(q)][doc] == 1:                             #Checking if it's relavant document \r\n",
        "        print('qr[',q,'][',doc,']')\r\n",
        "        relevance += 1                          \r\n",
        "        precision_sum += (relevance/count)                 #Calculating precision and adding it to local precision_sum                    \r\n",
        "        print('relevence:',relevance,'cnt:',count)\r\n",
        "  if relevance==0:\r\n",
        "    avg_precision.append(0)     \r\n",
        "  else:\r\n",
        "    avg_precision.append(precision_sum/relevance)\r\n",
        "print(avg_precision)\r\n",
        "map = sum(avg_precision)/len(avg_precision)      \r\n",
        "\r\n",
        "print(\"MAP : \",round(map,2))"
      ],
      "execution_count": 53,
      "outputs": [
        {
          "output_type": "stream",
          "text": [
            "doc: 1060404_foreign_story_6054544.utf8\n",
            "qr[ 76 ][ 1060404_foreign_story_6054544.utf8 ]\n",
            "relevence: 1 cnt: 1\n",
            "doc: 1060625_foreign_story_6397784.utf8\n",
            "doc: 1060209_foreign_story_5823850.utf8\n",
            "qr[ 76 ][ 1060209_foreign_story_5823850.utf8 ]\n",
            "relevence: 2 cnt: 3\n",
            "doc: 1060404_foreign_story_6054544.utf8\n",
            "doc: 1060625_foreign_story_6397784.utf8\n",
            "qr[ 77 ][ 1060625_foreign_story_6397784.utf8 ]\n",
            "relevence: 1 cnt: 2\n",
            "doc: 1060209_foreign_story_5823850.utf8\n",
            "qr[ 77 ][ 1060209_foreign_story_5823850.utf8 ]\n",
            "relevence: 2 cnt: 3\n",
            "[0.8333333333333333, 0.5833333333333333]\n",
            "MAP :  0.71\n"
          ],
          "name": "stdout"
        }
      ]
    },
    {
      "cell_type": "code",
      "metadata": {
        "colab": {
          "base_uri": "https://localhost:8080/"
        },
        "id": "gZHs2kd-_zmH",
        "outputId": "9b2253e1-0861-4d0f-bf42-11f8b27b8033"
      },
      "source": [
        "d={'a':4,'5':6}\r\n",
        "d2={'5':{'a':4,'5':6},'c':{'a':4,'5':6}}\r\n",
        "for ele in d:\r\n",
        "    print(ele)\r\n",
        "    if ele in d2:\r\n",
        "        print(\"yes\")\r\n",
        "    else:\r\n",
        "        print(\"no\")"
      ],
      "execution_count": 49,
      "outputs": [
        {
          "output_type": "stream",
          "text": [
            "a\n",
            "no\n",
            "5\n",
            "yes\n"
          ],
          "name": "stdout"
        }
      ]
    }
  ]
}