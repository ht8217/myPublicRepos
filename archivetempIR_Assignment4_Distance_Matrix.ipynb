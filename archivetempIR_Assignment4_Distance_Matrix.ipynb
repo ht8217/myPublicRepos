{
  "nbformat": 4,
  "nbformat_minor": 0,
  "metadata": {
    "colab": {
      "name": "IR_Assignment4_Distance_Matrix_202011050.ipynb",
      "provenance": [],
      "collapsed_sections": [],
      "toc_visible": true
    },
    "kernelspec": {
      "display_name": "Python 3",
      "language": "python",
      "name": "python3"
    },
    "language_info": {
      "codemirror_mode": {
        "name": "ipython",
        "version": 3
      },
      "file_extension": ".py",
      "mimetype": "text/x-python",
      "name": "python",
      "nbconvert_exporter": "python",
      "pygments_lexer": "ipython3",
      "version": "3.8.3"
    }
  },
  "cells": [
    {
      "cell_type": "markdown",
      "metadata": {
        "id": "2zIm5wvQlfnI"
      },
      "source": [
        "### **Assignment-4**\n",
        "\n",
        "## **ID:-202011050**\n"
      ]
    },
    {
      "cell_type": "code",
      "metadata": {
        "colab": {
          "base_uri": "https://localhost:8080/"
        },
        "id": "G9MG3r8WeOMq",
        "outputId": "e62555fc-61ba-447b-ecb0-38fd1547f31f"
      },
      "source": [
        "import numpy as np\n",
        "import nltk\n",
        "fi = open(\"drive/MyDrive/IR file/YASS/stemming.txt\",'r')\n",
        "data = fi.read()\n",
        "words=data.split()\n",
        "len1=len(words)\n",
        "print(len1)"
      ],
      "execution_count": null,
      "outputs": [
        {
          "output_type": "stream",
          "text": [
            "23531\n"
          ],
          "name": "stdout"
        }
      ]
    },
    {
      "cell_type": "markdown",
      "metadata": {
        "id": "Ei77zYZcluDl"
      },
      "source": [
        "# Distance Function D1,D2,D3,D4 \n"
      ]
    },
    {
      "cell_type": "code",
      "metadata": {
        "id": "jdkk2QUFkk5U"
      },
      "source": [
        "def D1(X,Y):\n",
        "  n1=len(X)\n",
        "  n2=len(Y)\n",
        "  sz=max(n1,n2)\n",
        "  i=0\n",
        "  sum=0\n",
        "  p=[1]*sz\n",
        "  for x1,y1 in zip(X,Y):\n",
        "    if x1==y1:\n",
        "       p[i]=0\n",
        "    i+=1\n",
        "  sum=0;\n",
        "  i=0;\n",
        "  while i<sz:\n",
        "    sum=sum+(1/2**i)*p[i]\n",
        "    i+=1\n",
        "  return sum"
      ],
      "execution_count": null,
      "outputs": []
    },
    {
      "cell_type": "code",
      "metadata": {
        "id": "xhKdMaH1kntX"
      },
      "source": [
        "def D2(X,Y):\n",
        "  n1=len(X)\n",
        "  n2=len(Y)\n",
        "  i=0\n",
        "  for x1,y1 in zip(X,Y):\n",
        "    if x1!=y1:\n",
        "      break \n",
        "    i+=1\n",
        "  sz=max(n1,n2)\n",
        "  sum=0;\n",
        "  m=i\n",
        "  if m==0:\n",
        "    return 9999\n",
        "  else:\n",
        "    while i<sz:\n",
        "      sum=sum+(1/2**(i-m))\n",
        "      i+=1\n",
        "    return sum/m"
      ],
      "execution_count": null,
      "outputs": []
    },
    {
      "cell_type": "code",
      "metadata": {
        "id": "nlSbwmd2kqp0"
      },
      "source": [
        "def D3(X,Y):\n",
        "  n1=len(X)\n",
        "  n2=len(Y)\n",
        "  i=0\n",
        "  for x1,y1 in zip(X,Y):\n",
        "    if x1!=y1:\n",
        "      break \n",
        "    i+=1\n",
        "  sz=max(n1,n2)\n",
        "  sum=0;\n",
        "  m=i\n",
        "  if m==0:\n",
        "    return 9999\n",
        "  else:\n",
        "    while i<sz:\n",
        "      sum=sum+(1/2**(i-m))\n",
        "      i+=1\n",
        "    return sum/m*(sz-m)\n",
        "      #here we start index with 0 so, +1 not added"
      ],
      "execution_count": null,
      "outputs": []
    },
    {
      "cell_type": "code",
      "metadata": {
        "id": "edUSmpilfqC-"
      },
      "source": [
        "def D4(X,Y):\n",
        "  n1=len(X)\n",
        "  n2=len(Y)\n",
        "  i=0\n",
        "  for x1,y1 in zip(X,Y):\n",
        "    if x1!=y1:\n",
        "      break \n",
        "    i+=1\n",
        "  sz=max(n1,n2)\n",
        "  sum=0;\n",
        "  m=i\n",
        "  if m==0:\n",
        "    return 9999\n",
        "  else:\n",
        "    while i<sz:\n",
        "      sum=sum+(1/2**(i-m))\n",
        "      i+=1\n",
        "    return sum/sz*(sz-m)\n",
        "   "
      ],
      "execution_count": null,
      "outputs": []
    },
    {
      "cell_type": "markdown",
      "metadata": {
        "id": "3P_nYgpjl7g0"
      },
      "source": [
        "# *Create Distance matrix*"
      ]
    },
    {
      "cell_type": "code",
      "metadata": {
        "id": "X7UmFCt-lhpl"
      },
      "source": [
        "import numpy as np\n",
        "D3_data=np.zeros((len1,len1))"
      ],
      "execution_count": null,
      "outputs": []
    },
    {
      "cell_type": "code",
      "metadata": {
        "id": "Oh3MKqriiS-6"
      },
      "source": [
        "import nltk\n",
        "for i in range(len1):\n",
        "  for j in range(i,len1,1):\n",
        "    #D3_data[i,j]=D1(words[i],words[j])\n",
        "    D3_data[i,j]=nltk.edit_distance(words[i], words[j])\n",
        "    D3_data[j,i]=D3_data[i,j]\n"
      ],
      "execution_count": null,
      "outputs": []
    },
    {
      "cell_type": "code",
      "metadata": {
        "colab": {
          "base_uri": "https://localhost:8080/"
        },
        "id": "ttCvaRBHtGDi",
        "outputId": "895c8989-cac7-48f7-d0a6-c8d03c4c62c9"
      },
      "source": [
        "print(D3_data[0,5])"
      ],
      "execution_count": null,
      "outputs": [
        {
          "output_type": "stream",
          "text": [
            "0.9375\n"
          ],
          "name": "stdout"
        }
      ]
    },
    {
      "cell_type": "code",
      "metadata": {
        "id": "N3Y75gNKpZkI"
      },
      "source": [
        "import pickle\n",
        "with open('drive/MyDrive/IR file/YASS/Levenshtein_DATA.txt', 'wb') as fh:\n",
        "   pickle.dump(D3_data, fh,protocol=4)"
      ],
      "execution_count": null,
      "outputs": []
    },
    {
      "cell_type": "markdown",
      "metadata": {
        "id": "aclQFLlRmSUe"
      },
      "source": [
        "# load file \n",
        "\n",
        "Create D1_data,D2_data,D3_data,D4_data => this file store distance matrix "
      ]
    },
    {
      "cell_type": "code",
      "metadata": {
        "colab": {
          "base_uri": "https://localhost:8080/"
        },
        "id": "xlr8gDEqpxUu",
        "outputId": "168f916b-affe-4847-c279-4cf36263284c"
      },
      "source": [
        "import pickle\n",
        "pickle_off = open (\"drive/MyDrive/IR file/YASS/D4_DATA.txt\", \"rb\")\n",
        "d4_val = pickle.load(pickle_off)\n",
        "print(d4_val[0,5])"
      ],
      "execution_count": null,
      "outputs": [
        {
          "output_type": "stream",
          "text": [
            "1.5\n"
          ],
          "name": "stdout"
        }
      ]
    },
    {
      "cell_type": "code",
      "metadata": {
        "id": "R4hE41K42noI"
      },
      "source": [
        "from sklearn.cluster import AgglomerativeClustering\n",
        "import numpy as np"
      ],
      "execution_count": null,
      "outputs": []
    },
    {
      "cell_type": "code",
      "metadata": {
        "id": "_3Q8LoG0foml"
      },
      "source": [
        "obj=AgglomerativeClustering(n_clusters=None,affinity='precomputed',linkage='single',distance_threshold=0.25)\n",
        "model=obj.fit(d4_val)\n",
        "lables=model.labels_"
      ],
      "execution_count": null,
      "outputs": []
    },
    {
      "cell_type": "code",
      "metadata": {
        "colab": {
          "base_uri": "https://localhost:8080/"
        },
        "id": "lZMDPsVYgdfj",
        "outputId": "2cd162fe-d5a9-4d75-f905-775498a317cb"
      },
      "source": [
        "print(len(lables))"
      ],
      "execution_count": null,
      "outputs": [
        {
          "output_type": "stream",
          "text": [
            "23531\n"
          ],
          "name": "stdout"
        }
      ]
    },
    {
      "cell_type": "code",
      "metadata": {
        "colab": {
          "base_uri": "https://localhost:8080/"
        },
        "id": "WOOygV3xhhhT",
        "outputId": "821cbdd7-4c60-46bf-c325-8c93f80ee03c"
      },
      "source": [
        "print(model.n_clusters_)"
      ],
      "execution_count": null,
      "outputs": [
        {
          "output_type": "stream",
          "text": [
            "17632\n"
          ],
          "name": "stdout"
        }
      ]
    },
    {
      "cell_type": "code",
      "metadata": {
        "id": "LvnVoldcg0FA"
      },
      "source": [
        "word_cluster=[]     \n",
        "for i in range(len(lables)):\n",
        "  word_cluster.append((i,lables[i]))   #save zip(index,cluster_id) and sort by cluster_id \n",
        "word_cluster.sort(key = lambda x: x[1])"
      ],
      "execution_count": null,
      "outputs": []
    },
    {
      "cell_type": "code",
      "metadata": {
        "colab": {
          "base_uri": "https://localhost:8080/"
        },
        "id": "8NNRr5GXhgYx",
        "outputId": "be74d45e-6670-4418-f06d-902c94fd6d13"
      },
      "source": [
        "len(word_cluster)"
      ],
      "execution_count": null,
      "outputs": [
        {
          "output_type": "execute_result",
          "data": {
            "text/plain": [
              "23531"
            ]
          },
          "metadata": {
            "tags": []
          },
          "execution_count": 7
        }
      ]
    },
    {
      "cell_type": "code",
      "metadata": {
        "id": "C2SY0rabh9iV"
      },
      "source": [
        "#making list of list of cluster\n",
        "temp_cluster=[]\n",
        "fin_cluster=[]\n",
        "i=0\n",
        "j=0\n",
        "while(i<len(word_cluster)):\n",
        "  if(word_cluster[i][1]==j):\n",
        "    temp_cluster.append(word_cluster[i][0])           \n",
        "    #print(i)\n",
        "    i+=1\n",
        "  else:\n",
        "    j+=1\n",
        "    fin_cluster.append(temp_cluster)\n",
        "    temp_cluster=[]"
      ],
      "execution_count": null,
      "outputs": []
    },
    {
      "cell_type": "code",
      "metadata": {
        "colab": {
          "base_uri": "https://localhost:8080/"
        },
        "id": "a30L2_Iina6-",
        "outputId": "7754621d-96c7-41a7-e392-d32cb82c2afb"
      },
      "source": [
        "len(fin_cluster)"
      ],
      "execution_count": null,
      "outputs": [
        {
          "output_type": "execute_result",
          "data": {
            "text/plain": [
              "12763"
            ]
          },
          "metadata": {
            "tags": []
          },
          "execution_count": 34
        }
      ]
    },
    {
      "cell_type": "code",
      "metadata": {
        "colab": {
          "base_uri": "https://localhost:8080/"
        },
        "id": "CZH9rIRnhZb5",
        "outputId": "d2fcbd4e-54e2-4699-e655-41d10e6ecf6e"
      },
      "source": [
        "len(word_cluster)"
      ],
      "execution_count": null,
      "outputs": [
        {
          "output_type": "execute_result",
          "data": {
            "text/plain": [
              "23531"
            ]
          },
          "metadata": {
            "tags": []
          },
          "execution_count": 15
        }
      ]
    },
    {
      "cell_type": "code",
      "metadata": {
        "colab": {
          "base_uri": "https://localhost:8080/",
          "height": 35
        },
        "id": "5wJEjc5uiYIe",
        "outputId": "50db69e6-f1e8-47b4-9662-d24e3c82dd4b"
      },
      "source": [
        "words[10090]"
      ],
      "execution_count": null,
      "outputs": [
        {
          "output_type": "execute_result",
          "data": {
            "application/vnd.google.colaboratory.intrinsic+json": {
              "type": "string"
            },
            "text/plain": [
              "'honest'"
            ]
          },
          "metadata": {
            "tags": []
          },
          "execution_count": 19
        }
      ]
    },
    {
      "cell_type": "code",
      "metadata": {
        "id": "wyo6qUdqiB4P"
      },
      "source": [
        "#finding root word\n",
        "root=[]\n",
        "for i in range(len(fin_cluster)):\n",
        "  str_list=[]\n",
        "  for j in range(len(fin_cluster[i])):          \n",
        "    str_list.append(words[fin_cluster[i][j]])\n",
        "  temp=min(str_list,key=len)\n",
        "  root.append(temp)"
      ],
      "execution_count": null,
      "outputs": []
    },
    {
      "cell_type": "code",
      "metadata": {
        "id": "SIQkTtb7ic68"
      },
      "source": [
        "#mapping of word to root word\n",
        "fin_ans={}\n",
        "for values in range(len(root)):\n",
        "  for key in (fin_cluster[values]):\n",
        "    fin_ans[words[key]]=root[values]"
      ],
      "execution_count": null,
      "outputs": []
    },
    {
      "cell_type": "code",
      "metadata": {
        "id": "0xqIRYM-kHFS"
      },
      "source": [
        "import pickle\n",
        "with open('drive/MyDrive/IR file/YASS/D4_dict.txt', 'wb') as fh:\n",
        "   pickle.dump(fin_ans, fh,protocol=4)"
      ],
      "execution_count": null,
      "outputs": []
    },
    {
      "cell_type": "code",
      "metadata": {
        "colab": {
          "base_uri": "https://localhost:8080/",
          "height": 35
        },
        "id": "VuziN2cPikVc",
        "outputId": "9506b6ce-ecc1-4d0e-f260-c907eb48dcb8"
      },
      "source": [
        "fin_ans['am']"
      ],
      "execution_count": null,
      "outputs": [
        {
          "output_type": "execute_result",
          "data": {
            "application/vnd.google.colaboratory.intrinsic+json": {
              "type": "string"
            },
            "text/plain": [
              "'am'"
            ]
          },
          "metadata": {
            "tags": []
          },
          "execution_count": 14
        }
      ]
    },
    {
      "cell_type": "code",
      "metadata": {
        "colab": {
          "base_uri": "https://localhost:8080/"
        },
        "id": "pqaF28BfV1lr",
        "outputId": "56b815d3-a00e-432a-c190-c94dcfc174a7"
      },
      "source": [
        "Th=np.linspace(0,0.5,30)\n",
        "val=[]       #store no of cluster for perticular Thresold value\n",
        "for ele in Th:\n",
        "  obj=AgglomerativeClustering(n_clusters=None,affinity='precomputed',linkage='single',distance_threshold=ele)\n",
        "  clusters=obj.fit(D3_data)\n",
        "  print(clusters.n_clusters_)\n",
        "  val.append(clusters.n_clusters_)\n"
      ],
      "execution_count": null,
      "outputs": [
        {
          "output_type": "stream",
          "text": [
            "23531\n",
            "18393\n",
            "15313\n",
            "14117\n",
            "10954\n",
            "10547\n",
            "9010\n",
            "7438\n",
            "5297\n",
            "5092\n",
            "4468\n",
            "3405\n",
            "3262\n",
            "2658\n",
            "2356\n",
            "1029\n",
            "998\n",
            "913\n",
            "831\n",
            "744\n",
            "639\n",
            "581\n",
            "442\n",
            "435\n",
            "409\n",
            "384\n",
            "344\n",
            "329\n"
          ],
          "name": "stdout"
        }
      ]
    },
    {
      "cell_type": "code",
      "metadata": {
        "colab": {
          "base_uri": "https://localhost:8080/"
        },
        "id": "rR49Wi9RBcV0",
        "outputId": "94654b2a-251d-4bc3-aa1b-635631529c16"
      },
      "source": [
        "Th=np.linspace(0,0.45,40)\n",
        "print(Th)"
      ],
      "execution_count": null,
      "outputs": [
        {
          "output_type": "stream",
          "text": [
            "[0.         0.01153846 0.02307692 0.03461538 0.04615385 0.05769231\n",
            " 0.06923077 0.08076923 0.09230769 0.10384615 0.11538462 0.12692308\n",
            " 0.13846154 0.15       0.16153846 0.17307692 0.18461538 0.19615385\n",
            " 0.20769231 0.21923077 0.23076923 0.24230769 0.25384615 0.26538462\n",
            " 0.27692308 0.28846154 0.3        0.31153846 0.32307692 0.33461538\n",
            " 0.34615385 0.35769231 0.36923077 0.38076923 0.39230769 0.40384615\n",
            " 0.41538462 0.42692308 0.43846154 0.45      ]\n"
          ],
          "name": "stdout"
        }
      ]
    },
    {
      "cell_type": "code",
      "metadata": {
        "colab": {
          "background_save": true,
          "base_uri": "https://localhost:8080/",
          "height": 282
        },
        "id": "G-ZVHK-m_uP1",
        "outputId": "2e390dd9-7b75-459b-f526-fdd30c69af82"
      },
      "source": [
        "import matplotlib.pyplot as plt \n",
        "plt.plot(Th, val, color='green', linestyle='dashed', linewidth = 1,\n",
        "         marker='o', markerfacecolor='blue', markersize=4) "
      ],
      "execution_count": null,
      "outputs": [
        {
          "output_type": "execute_result",
          "data": {
            "text/plain": [
              "[<matplotlib.lines.Line2D at 0x7f5fc7c4c890>]"
            ]
          },
          "metadata": {
            "tags": []
          },
          "execution_count": 0
        },
        {
          "output_type": "display_data",
          "data": {
            "image/png": "[encoded data removed]",
            "text/plain": [
              "<Figure size 432x288 with 1 Axes>"
            ]
          },
          "metadata": {
            "tags": []
          }
        }
      ]
    },
    {
      "cell_type": "code",
      "metadata": {
        "id": "vPa7as98kuQE"
      },
      "source": [
        "import pickle\n",
        "with open('drive/MyDrive/IR file/YASS/D4_y.txt', 'wb') as fh:\n",
        "   pickle.dump(val, fh,protocol=4)   "
      ],
      "execution_count": null,
      "outputs": []
    }
  ]
}